{
  "nbformat": 4,
  "nbformat_minor": 0,
  "metadata": {
    "colab": {
      "provenance": [],
      "authorship_tag": "ABX9TyMd9N2mndGYW0doALwRxg4E",
      "include_colab_link": true
    },
    "kernelspec": {
      "name": "python3",
      "display_name": "Python 3"
    },
    "language_info": {
      "name": "python"
    }
  },
  "cells": [
    {
      "cell_type": "markdown",
      "metadata": {
        "id": "view-in-github",
        "colab_type": "text"
      },
      "source": [
        "<a href=\"https://colab.research.google.com/github/muziejus/21F-UP206A/blob/master/2025/march_5_data_engineering_with_polars_1.ipynb\" target=\"_parent\"><img src=\"https://colab.research.google.com/assets/colab-badge.svg\" alt=\"Open In Colab\"/></a>"
      ]
    },
    {
      "cell_type": "markdown",
      "source": [
        "![A blue background with the pandas logo and the words Columbia Data Club on it](https://raw.githubusercontent.com/columbia-data-club/meetings/main/assets/images/2025/polars.png)\n",
        "\n",
        "# Python Data Engineering with Polars I\n",
        "\n",
        "March 5, 2025\n",
        "\n",
        "by [Moacir P. de Sá Pereira](https://moacir.com) for the [Columbia Data Club](https://github.com/columbia-data-club/)\n",
        "\n",
        "\n",
        "This notebook provides an introduction to data engineering with [Polars](https://pola.rs). A basic understanding of Python syntax (such as the one covered in the Data Club’s [Intro to Python video](https://youtu.be/l45rzo4MUHs)) should suffice.\n",
        "\n",
        "We will be looking to our perennial favorite today, [NYC Yellow Cab trip data](https://www.nyc.gov/site/tlc/about/tlc-trip-record-data.page)."
      ],
      "metadata": {
        "id": "umx8Y20Y3uYJ"
      }
    },
    {
      "cell_type": "markdown",
      "source": [
        "## Pandas, OK, but Polars?\n",
        "\n",
        "[Polars](https://pola.rs) is a library that has a lot of similar use cases to pandas. The developers present the library as “DataFrames for a new era,” and they mention a few specific reasons why it would make sense to switch to Polars, especially for intensive data engineering (with large datasets).\n",
        "\n",
        "* Written from the ground up in Rust, so the code is very close to the machine\n",
        "* This means blazing fast performance, even in comparison to PySpark and Dask, leaving pandas in its dust.\n",
        "* Query optimization by using specific Polars expressions (similar to Spark)\n",
        "* Lazy loading\n",
        "\n",
        "Pandas still has a lot of use cases, of course, and probably is the better choice for row-wise operations that use methods like `.itterrows()`, but within the context of [ETL](https://en.wikipedia.org/wiki/Extract,_transform,_load), where we are transforming large datasets, we want to leverage certain optimizations that are built into Polars’s memory model."
      ],
      "metadata": {
        "id": "fB2ZwBkj4kBX"
      }
    },
    {
      "cell_type": "code",
      "execution_count": null,
      "metadata": {
        "id": "CHZSK1Zq3tMp"
      },
      "outputs": [],
      "source": [
        "import polars as pl\n",
        "from datetime import datetime as dt"
      ]
    },
    {
      "cell_type": "markdown",
      "source": [
        "## Polars Syntax\n",
        "\n",
        "Polars is built on two fundamental concepts in terms of its data wrangling engine, **contexts** and **expressions**. The latter are lazy descriptions of data transformations that make use of methods and functions built into Polars.\n",
        "\n",
        "To me, an expression is a bit like a lambda function, down to how you can even predefine it as a transformation before you have even executed it. Here we calculate a what percentage of a taxi fare was paid as the tip:"
      ],
      "metadata": {
        "id": "iq7Vxj4W6qly"
      }
    },
    {
      "cell_type": "code",
      "source": [
        "tip_pct = pl.col(\"tip_amount\") / pl.col(\"fare_amount\")\n",
        "tip_pct"
      ],
      "metadata": {
        "id": "_XcA1cfp9DiH"
      },
      "execution_count": null,
      "outputs": []
    },
    {
      "cell_type": "markdown",
      "source": [
        "The `pl.col()` method is referencing a specific column in a dataset, but no calculations have been done yet. In fact, we have not even loaded data."
      ],
      "metadata": {
        "id": "vDVEOysH9IRX"
      }
    },
    {
      "cell_type": "code",
      "source": [
        "df = pl.read_parquet(\"https://d37ci6vzurychx.cloudfront.net/trip-data/yellow_tripdata_2024-12.parquet\")"
      ],
      "metadata": {
        "id": "HC1iDx_r8cmx"
      },
      "execution_count": null,
      "outputs": []
    },
    {
      "cell_type": "code",
      "source": [
        "df.shape"
      ],
      "metadata": {
        "id": "Yac4K3it8kBs"
      },
      "execution_count": null,
      "outputs": []
    },
    {
      "cell_type": "code",
      "source": [
        "df.columns"
      ],
      "metadata": {
        "id": "tRhJihhn8nUX"
      },
      "execution_count": null,
      "outputs": []
    },
    {
      "cell_type": "code",
      "source": [
        "df.head()"
      ],
      "metadata": {
        "id": "mDFsG3Vc8s7O"
      },
      "execution_count": null,
      "outputs": []
    },
    {
      "cell_type": "code",
      "source": [
        "df.select(passengers=pl.col(\"passenger_count\").value_counts(sort=True))#.unnest(\"passengers\")"
      ],
      "metadata": {
        "id": "BpbLgMGp4c3_"
      },
      "execution_count": null,
      "outputs": []
    },
    {
      "cell_type": "markdown",
      "source": [
        "What do these commands demonstrate to you?"
      ],
      "metadata": {
        "id": "j91j7JH-DQFH"
      }
    },
    {
      "cell_type": "markdown",
      "source": [
        "## Polars Context\n",
        "\n",
        "We have our one example of a Polars expression, and we’ll look at others in a bit, but recall that the expression needs a context. The four main contexts are:\n",
        "\n",
        "* `select`\n",
        "* `with_columns`\n",
        "* `filter`\n",
        "* `group_by`\n",
        "\n",
        "Their behaviour should be somewhat familiar."
      ],
      "metadata": {
        "id": "maqI0huxDX1O"
      }
    },
    {
      "cell_type": "markdown",
      "source": [
        "### `select`\n",
        "\n",
        "`select` lets you choose but also aggregate certain columns."
      ],
      "metadata": {
        "id": "RQVyXj5NEVEl"
      }
    },
    {
      "cell_type": "code",
      "source": [
        "df.select(\n",
        "    trip_duration = pl.col(\"tpep_dropoff_datetime\") - pl.col(\"tpep_pickup_datetime\"),\n",
        "    distance = pl.col(\"trip_distance\")).head()"
      ],
      "metadata": {
        "id": "IuGy2B2FcDmZ"
      },
      "execution_count": null,
      "outputs": []
    },
    {
      "cell_type": "code",
      "source": [
        "df.select(\n",
        "    trip_duration = pl.col(\"tpep_dropoff_datetime\") - pl.col(\"tpep_pickup_datetime\"),\n",
        "    distance = pl.col(\"trip_distance\")).describe()"
      ],
      "metadata": {
        "id": "1AAsJD2mbQ-S"
      },
      "execution_count": null,
      "outputs": []
    },
    {
      "cell_type": "code",
      "source": [
        "df.select(\n",
        "    distance = pl.col(\"trip_distance\"),\n",
        "    tip_pct = tip_pct,\n",
        "    mean_tip_pct = tip_pct.mean()\n",
        ").head()\n"
      ],
      "metadata": {
        "id": "8uZhTcWL9Rg2"
      },
      "execution_count": null,
      "outputs": []
    },
    {
      "cell_type": "code",
      "source": [
        "df.select(\n",
        "    tip_pct = tip_pct,\n",
        "    distance = pl.col(\"trip_distance\"),\n",
        "    mean_tip_pct = tip_pct.mean()\n",
        ").head()"
      ],
      "metadata": {
        "id": "-Om76_ypD-ZU"
      },
      "execution_count": null,
      "outputs": []
    },
    {
      "cell_type": "code",
      "source": [
        "df.select(tip_pct = tip_pct).describe()"
      ],
      "metadata": {
        "id": "Y2gl_q94GZb5"
      },
      "execution_count": null,
      "outputs": []
    },
    {
      "cell_type": "code",
      "source": [
        "df.select(pl.col(\"fare_amount\")).describe()"
      ],
      "metadata": {
        "id": "uSTVbKljHxTr"
      },
      "execution_count": null,
      "outputs": []
    },
    {
      "cell_type": "code",
      "source": [
        "df.filter(pl.col(\"fare_amount\")== 0)"
      ],
      "metadata": {
        "id": "C7Jo88ByH1NQ"
      },
      "execution_count": null,
      "outputs": []
    },
    {
      "cell_type": "code",
      "source": [
        "df.select(fare_amount=pl.col(\"fare_amount\")+0.001).describe()"
      ],
      "metadata": {
        "id": "adpZohseIGyh"
      },
      "execution_count": null,
      "outputs": []
    },
    {
      "cell_type": "markdown",
      "source": [
        "### `with_columns`\n",
        "\n",
        "We can see that the `mean_tip_pct` does not get calculated correctly because the maximum tip percentage is infinity, because some people had \\$0 fares. We can use `with_columns` to fix this by temporarily adding a tenth of a cent to each fare, so no fares are \\$0.\n",
        "\n",
        "`with_columns` works like `select` but returns a new data frame with all the columns as well as the newly added ones."
      ],
      "metadata": {
        "id": "lWybETs3Fx4X"
      }
    },
    {
      "cell_type": "code",
      "source": [
        "df.with_columns(\n",
        "    fare_amount=pl.col(\"fare_amount\")+0.001\n",
        ").select(\n",
        "    \"fare_amount\",\n",
        "    tip_pct = tip_pct,\n",
        "    distance = pl.col(\"trip_distance\"),\n",
        "    mean_tip_pct = tip_pct.mean()\n",
        ").head()"
      ],
      "metadata": {
        "id": "IHyjLHcoIQZE"
      },
      "execution_count": null,
      "outputs": []
    },
    {
      "cell_type": "code",
      "source": [
        "df_with_tip_pct = df.with_columns(\n",
        "    fare_amount=pl.col(\"fare_amount\")+0.001,\n",
        "    tip_pct = tip_pct\n",
        ")"
      ],
      "metadata": {
        "id": "udH8W-4lJziM"
      },
      "execution_count": null,
      "outputs": []
    },
    {
      "cell_type": "code",
      "source": [
        "df_with_tip_pct.head()"
      ],
      "metadata": {
        "id": "r-IkkS5uKKxW"
      },
      "execution_count": null,
      "outputs": []
    },
    {
      "cell_type": "markdown",
      "source": [
        "### `filter`\n",
        "\n",
        "Alternatively, we could filter out the $0 fares or only adjust them using the `filter`:"
      ],
      "metadata": {
        "id": "JHXm3AQtKjnh"
      }
    },
    {
      "cell_type": "code",
      "source": [
        "df.filter(pl.col(\"fare_amount\") != 0).select(\n",
        "    tip_pct = tip_pct,\n",
        "    distance = pl.col(\"trip_distance\"),\n",
        "    mean_tip_pct = tip_pct.mean()\n",
        ").head()"
      ],
      "metadata": {
        "id": "G5IKXJ7lKNYN"
      },
      "execution_count": null,
      "outputs": []
    },
    {
      "cell_type": "markdown",
      "source": [
        "Or use a new expression, `when`:"
      ],
      "metadata": {
        "id": "W1OFtEgm3fJX"
      }
    },
    {
      "cell_type": "code",
      "source": [
        "df.with_columns(\n",
        "    fare_amount=pl.when(\n",
        "        pl.col(\"fare_amount\") == 0\n",
        "    ).then(\n",
        "        pl.col(\"fare_amount\")+0.001\n",
        "    ).otherwise(pl.col(\"fare_amount\")\n",
        "    )\n",
        ").select(\n",
        "    \"fare_amount\",\n",
        "    tip_pct = tip_pct,\n",
        "    distance = pl.col(\"trip_distance\"),\n",
        "    mean_tip_pct = tip_pct.mean()\n",
        ").head()"
      ],
      "metadata": {
        "id": "uzU0Lo6QK4aV"
      },
      "execution_count": null,
      "outputs": []
    },
    {
      "cell_type": "markdown",
      "source": [
        "We can filter by date."
      ],
      "metadata": {
        "id": "5S2Z3BHJ5tmU"
      }
    },
    {
      "cell_type": "code",
      "source": [
        "df.filter(\n",
        "    pl.col(\"tpep_pickup_datetime\").cast(pl.Date) == dt(2024, 12, 25)\n",
        ").select(\n",
        "    \"tpep_pickup_datetime\",\n",
        "    pickup_time = pl.col(\"tpep_pickup_datetime\").cast(pl.Time),\n",
        "    distance = pl.col(\"trip_distance\"),\n",
        ").head()\n",
        "\n"
      ],
      "metadata": {
        "id": "PtsK6eE_LOgT"
      },
      "execution_count": null,
      "outputs": []
    },
    {
      "cell_type": "code",
      "source": [
        "df.filter(\n",
        "    pl.col(\"tpep_pickup_datetime\").is_between(\n",
        "        dt(2024, 12, 25, 23, 58),\n",
        "        dt(2024, 12, 26, 0, 1)\n",
        "    )\n",
        ").select(\n",
        "    \"tpep_pickup_datetime\",\n",
        "    distance = pl.col(\"trip_distance\"),\n",
        "    trip_count = pl.len(),\n",
        "    mean_trip_distance = pl.col(\"trip_distance\").mean(),\n",
        "    max_trip_distance = pl.col(\"trip_distance\").max(),\n",
        "    min_trip_distance = pl.col(\"trip_distance\").min(),\n",
        ").head()"
      ],
      "metadata": {
        "id": "BsyoMVveKR6y"
      },
      "execution_count": null,
      "outputs": []
    },
    {
      "cell_type": "markdown",
      "source": [
        "### `group_by`\n",
        "\n",
        "Finally, we can use grouping to group our data."
      ],
      "metadata": {
        "id": "wEahCvSJLWkO"
      }
    },
    {
      "cell_type": "code",
      "source": [
        "df.group_by(pl.col(\"passenger_count\")).agg(\n",
        "  trip_count=pl.len(),\n",
        "  mean_trip_distance = pl.col(\"trip_distance\").mean(),\n",
        "  mean_fare_amount = pl.col(\"fare_amount\").mean().round(2),\n",
        ").sort(\"passenger_count\")"
      ],
      "metadata": {
        "id": "loSF87SXLsoa"
      },
      "execution_count": null,
      "outputs": []
    },
    {
      "cell_type": "code",
      "source": [
        "df.sort(\"tpep_pickup_datetime\").group_by_dynamic(\"tpep_pickup_datetime\", every=\"1d\").agg(\n",
        "    trip_count=pl.len(),\n",
        ").with_columns(\n",
        "    month=pl.col(\"tpep_pickup_datetime\").dt.month(),\n",
        "    day=pl.col(\"tpep_pickup_datetime\").dt.day(),\n",
        ")"
      ],
      "metadata": {
        "id": "Scjwq6blMOTy"
      },
      "execution_count": null,
      "outputs": []
    },
    {
      "cell_type": "markdown",
      "source": [
        "## We Are Low-Key EDAing Here?\n",
        "\n",
        "Absolutely. We are using these contexts to help us understand our data better, with an eye toward wrangling it for future analysis.\n",
        "\n",
        "What are some assumptions about our data we should test and perhaps correct?"
      ],
      "metadata": {
        "id": "YtumPqp-Q463"
      }
    },
    {
      "cell_type": "code",
      "source": [],
      "metadata": {
        "id": "kxmTaqAjPUec"
      },
      "execution_count": null,
      "outputs": []
    }
  ]
}